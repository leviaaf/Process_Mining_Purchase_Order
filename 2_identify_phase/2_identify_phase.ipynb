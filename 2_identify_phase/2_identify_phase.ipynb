{
 "cells": [
  {
   "cell_type": "code",
   "execution_count": null,
   "metadata": {
    "vscode": {
     "languageId": "sql"
    }
   },
   "outputs": [],
   "source": [
    "#1_read all data\n",
    "SELECT * FROM purchase_order_tm;"
   ]
  },
  {
   "cell_type": "code",
   "execution_count": null,
   "metadata": {
    "vscode": {
     "languageId": "sql"
    }
   },
   "outputs": [],
   "source": [
    "#2_data type\n",
    "SELECT \n",
    "    COLUMN_NAME,\n",
    "    DATA_TYPE_NAME\n",
    "FROM \n",
    "    \"SYS\".\"TABLE_COLUMNS\"\n",
    "WHERE \n",
    "    TABLE_NAME = 'PURCHASE_ORDER_TM';"
   ]
  },
  {
   "cell_type": "code",
   "execution_count": null,
   "metadata": {
    "vscode": {
     "languageId": "sql"
    }
   },
   "outputs": [],
   "source": [
    "#3_detect duplicate value of eventID\n",
    "SELECT \n",
    "    \"eventID\",\n",
    "    COUNT(*) AS duplicate_count\n",
    "FROM \n",
    "    purchase_order_tm\n",
    "GROUP BY \n",
    "    \"eventID\"\n",
    "HAVING \n",
    "    COUNT(*) > 1;"
   ]
  },
  {
   "cell_type": "code",
   "execution_count": null,
   "metadata": {
    "vscode": {
     "languageId": "sql"
    }
   },
   "outputs": [],
   "source": [
    "#4_detect missing value\n",
    "SELECT \n",
    "    'eventID' AS column_name, \n",
    "    COUNT(*) - COUNT(\"eventID\") AS count_null,\n",
    "    COUNT(*) - COUNT(*) AS missing_value\n",
    "FROM \n",
    "    purchase_order_tm\n",
    "UNION ALL\n",
    "SELECT \n",
    "    'caseID' AS column_name, \n",
    "    COUNT(*) - COUNT(\"caseID\") AS count_null,\n",
    "    COUNT(*) - COUNT(*) AS missing_value\n",
    "FROM \n",
    "    purchase_order_tm\n",
    "UNION ALL\n",
    "SELECT \n",
    "    'purchasing_document' AS column_name, \n",
    "    COUNT(*) - COUNT(\"purchasing_document\") AS count_null,\n",
    "    COUNT(*) - COUNT(*) AS missing_value\n",
    "FROM \n",
    "    purchase_order_tm\n",
    "UNION ALL\n",
    "SELECT \n",
    "    'item' AS column_name, \n",
    "    COUNT(*) - COUNT(\"item\") AS count_null,\n",
    "    COUNT(*) - COUNT(*) AS missing_value\n",
    "FROM \n",
    "    purchase_order_tm\n",
    "UNION ALL\n",
    "SELECT \n",
    "    'activity' AS column_name, \n",
    "    COUNT(*) - COUNT(\"activity\") AS count_null,\n",
    "    COUNT(*) - COUNT(*) AS missing_value\n",
    "FROM \n",
    "    purchase_order_tm\n",
    "UNION ALL\n",
    "SELECT \n",
    "    'purch_doc_category_name' AS column_name, \n",
    "    COUNT(*) - COUNT(\"purch_doc_category_name\") AS count_null,\n",
    "    COUNT(*) - COUNT(*) AS missing_value\n",
    "FROM \n",
    "    purchase_order_tm\n",
    "UNION ALL\n",
    "SELECT \n",
    "    'item_category' AS column_name, \n",
    "    COUNT(*) - COUNT(\"item_category\") AS count_null,\n",
    "    COUNT(*) - COUNT(*) AS missing_value\n",
    "FROM \n",
    "    purchase_order_tm\n",
    "UNION ALL\n",
    "SELECT \n",
    "    'goods_receipt' AS column_name, \n",
    "    COUNT(*) - COUNT(\"goods_receipt\") AS count_null,\n",
    "    COUNT(*) - COUNT(*) AS missing_value\n",
    "FROM \n",
    "    purchase_order_tm\n",
    "UNION ALL\n",
    "SELECT \n",
    "    'gr_based_iv' AS column_name, \n",
    "    COUNT(*) - COUNT(\"gr_based_iv\") AS count_null,\n",
    "    COUNT(*) - COUNT(*) AS missing_value\n",
    "FROM \n",
    "    purchase_order_tm\n",
    "UNION ALL\n",
    "SELECT \n",
    "    'document_type' AS column_name, \n",
    "    COUNT(*) - COUNT(\"document_type\") AS count_null,\n",
    "    COUNT(*) - COUNT(*) AS missing_value\n",
    "FROM \n",
    "    purchase_order_tm\n",
    "UNION ALL\n",
    "SELECT \n",
    "    'item_type' AS column_name, \n",
    "    COUNT(*) - COUNT(\"item_type\") AS count_null,\n",
    "    COUNT(*) - COUNT(*) AS missing_value\n",
    "FROM \n",
    "    purchase_order_tm\n",
    "UNION ALL\n",
    "SELECT \n",
    "    'spend_classification_text' AS column_name, \n",
    "    COUNT(*) - COUNT(\"spend_classification_text\") AS count_null,\n",
    "    COUNT(*) - COUNT(*) AS missing_value\n",
    "FROM \n",
    "    purchase_order_tm\n",
    "UNION ALL\n",
    "SELECT \n",
    "    'spend_area_text' AS column_name, \n",
    "    COUNT(*) - COUNT(\"spend_area_text\") AS count_null,\n",
    "    COUNT(*) - COUNT(*) AS missing_value\n",
    "FROM \n",
    "    purchase_order_tm\n",
    "UNION ALL\n",
    "SELECT \n",
    "    'subspend_area_text' AS column_name, \n",
    "    COUNT(*) - COUNT(\"subspend_area_text\") AS count_null,\n",
    "    COUNT(*) - COUNT(*) AS missing_value\n",
    "FROM \n",
    "    purchase_order_tm\n",
    "UNION ALL\n",
    "SELECT \n",
    "    'company' AS column_name, \n",
    "    COUNT(*) - COUNT(\"company\") AS count_null,\n",
    "    COUNT(*) - COUNT(*) AS missing_value\n",
    "FROM \n",
    "    purchase_order_tm\n",
    "UNION ALL\n",
    "SELECT \n",
    "    'source' AS column_name, \n",
    "    COUNT(*) - COUNT(\"source\") AS count_null,\n",
    "    COUNT(*) - COUNT(*) AS missing_value\n",
    "FROM \n",
    "    purchase_order_tm\n",
    "UNION ALL\n",
    "SELECT \n",
    "    'vendor' AS column_name, \n",
    "    COUNT(*) - COUNT(\"vendor\") AS count_null,\n",
    "    COUNT(*) - COUNT(*) AS missing_value\n",
    "FROM \n",
    "    purchase_order_tm\n",
    "UNION ALL\n",
    "SELECT \n",
    "    'vendor_name' AS column_name, \n",
    "    COUNT(*) - COUNT(\"vendor_name\") AS count_null,\n",
    "    COUNT(*) - COUNT(*) AS missing_value\n",
    "FROM \n",
    "    purchase_order_tm\n",
    "UNION ALL\n",
    "SELECT \n",
    "    'timestamp' AS column_name, \n",
    "    COUNT(*) - COUNT(\"timestamp\") AS count_null,\n",
    "    COUNT(*) - COUNT(*) AS missing_value\n",
    "FROM \n",
    "    purchase_order_tm\n",
    "UNION ALL\n",
    "SELECT \n",
    "    'event_user' AS column_name, \n",
    "    COUNT(*) - COUNT(\"event_user\") AS count_null,\n",
    "    COUNT(*) - COUNT(*) AS missing_value\n",
    "FROM \n",
    "    purchase_order_tm\n",
    "UNION ALL\n",
    "SELECT \n",
    "    'event_resource' AS column_name, \n",
    "    COUNT(*) - COUNT(\"event_resource\") AS count_null,\n",
    "    COUNT(*) - COUNT(*) AS missing_value\n",
    "FROM \n",
    "    purchase_order_tm;"
   ]
  },
  {
   "cell_type": "code",
   "execution_count": null,
   "metadata": {
    "vscode": {
     "languageId": "sql"
    }
   },
   "outputs": [],
   "source": [
    "#5_unique value column count\n",
    "SELECT column_name, count_unique_value\n",
    "FROM (\n",
    "    SELECT 'eventID' AS column_name, COUNT(DISTINCT \"eventID\") AS count_unique_value FROM purchase_order_tm\n",
    "    UNION ALL\n",
    "    SELECT 'caseID' AS column_name, COUNT(DISTINCT \"caseID\") AS count_unique_value FROM purchase_order_tm\n",
    "    UNION ALL\n",
    "    SELECT 'purchasing_document' AS column_name, COUNT(DISTINCT \"purchasing_document\") AS count_unique_value FROM purchase_order_tm\n",
    "    UNION ALL\n",
    "    SELECT 'item' AS column_name, COUNT(DISTINCT \"item\") AS count_unique_value FROM purchase_order_tm\n",
    "    UNION ALL\n",
    "    SELECT 'activity' AS column_name, COUNT(DISTINCT \"activity\") AS count_unique_value FROM purchase_order_tm\n",
    "    UNION ALL\n",
    "    SELECT 'vendor' AS column_name, COUNT(DISTINCT \"vendor\") AS count_unique_value FROM purchase_order_tm\n",
    "    UNION ALL\n",
    "    SELECT 'vendor_name' AS column_name, COUNT(DISTINCT \"vendor_name\") AS count_unique_value FROM purchase_order_tm\n",
    "    UNION ALL\n",
    "    SELECT 'event_user' AS column_name, COUNT(DISTINCT \"event_user\") AS count_unique_value FROM purchase_order_tm\n",
    "    UNION ALL\n",
    "    SELECT 'event_resource' AS column_name, COUNT(DISTINCT \"event_resource\") AS count_unique_value FROM purchase_order_tm\n",
    ") AS counts;"
   ]
  },
  {
   "cell_type": "code",
   "execution_count": null,
   "metadata": {
    "vscode": {
     "languageId": "sql"
    }
   },
   "outputs": [],
   "source": [
    "#6_list activity\n",
    "SELECT DISTINCT \"activity\" AS \"list_activity\"\n",
    "FROM purchase_order_tm;"
   ]
  },
  {
   "cell_type": "code",
   "execution_count": null,
   "metadata": {
    "vscode": {
     "languageId": "sql"
    }
   },
   "outputs": [],
   "source": [
    "#7_unique value identify\n",
    "SELECT 'purch_doc_category_name' AS column_name, \"purch_doc_category_name\" AS unique_value FROM (\n",
    "    SELECT DISTINCT \"purch_doc_category_name\" FROM purchase_order_tm\n",
    ") AS t1\n",
    "UNION ALL\n",
    "SELECT 'document_type' AS column_name, \"document_type\" AS unique_value FROM (\n",
    "    SELECT DISTINCT \"document_type\" FROM purchase_order_tm\n",
    ") AS t2\n",
    "UNION ALL\n",
    "SELECT 'item_type' AS column_name, \"item_type\" AS unique_value FROM (\n",
    "    SELECT DISTINCT \"item_type\" FROM purchase_order_tm\n",
    ") AS t3\n",
    "UNION ALL\n",
    "SELECT 'spend_classification_text' AS column_name, \"spend_classification_text\" AS unique_value FROM (\n",
    "    SELECT DISTINCT \"spend_classification_text\" FROM purchase_order_tm\n",
    ") AS t4\n",
    "UNION ALL\n",
    "SELECT 'spend_area_text' AS column_name, \"spend_area_text\" AS unique_value FROM (\n",
    "    SELECT DISTINCT \"spend_area_text\" FROM purchase_order_tm\n",
    ") AS t5\n",
    "UNION ALL\n",
    "SELECT 'subspend_area_text' AS column_name, \"subspend_area_text\" AS unique_value FROM (\n",
    "    SELECT DISTINCT \"subspend_area_text\" FROM purchase_order_tm\n",
    ") AS t6\n",
    "UNION ALL\n",
    "SELECT 'company' AS column_name, \"company\" AS unique_value FROM (\n",
    "    SELECT DISTINCT \"company\" FROM purchase_order_tm\n",
    ") AS t7\n",
    "UNION ALL\n",
    "SELECT 'source' AS column_name, \"source\" AS unique_value FROM (\n",
    "    SELECT DISTINCT \"source\" FROM purchase_order_tm\n",
    ") AS t8;"
   ]
  },
  {
   "cell_type": "code",
   "execution_count": null,
   "metadata": {
    "vscode": {
     "languageId": "sql"
    }
   },
   "outputs": [],
   "source": [
    "#8_vendor and vendor_name identify\n",
    "SELECT \n",
    "    COUNT (*) \"vendor\"\n",
    "FROM \n",
    "    purchase_order_tm\n",
    "WHERE \n",
    "    \"vendor\" = \"vendor_name\";"
   ]
  },
  {
   "cell_type": "code",
   "execution_count": null,
   "metadata": {
    "vscode": {
     "languageId": "sql"
    }
   },
   "outputs": [],
   "source": [
    "#9_event_user and event_resource identify\n",
    "SELECT \n",
    "    COUNT (*) \"event_user\"\n",
    "FROM \n",
    "    purchase_order_tm\n",
    "WHERE \n",
    "    \"event_user\" <> \"event_resource\";"
   ]
  },
  {
   "cell_type": "code",
   "execution_count": null,
   "metadata": {
    "vscode": {
     "languageId": "sql"
    }
   },
   "outputs": [],
   "source": [
    "#10_event_user count details identify\n",
    "SELECT \n",
    "    COUNT(CASE WHEN \"event_user\" LIKE 'user%' THEN 1 END) AS count_user_event_user,\n",
    "    COUNT(CASE WHEN \"event_user\" LIKE 'batch%' THEN 1 END) AS count_batch_event_user,\n",
    "    COUNT(CASE WHEN \"event_user\" = 'NONE' THEN 1 END) AS count_none_event_user,\n",
    "    COUNT(CASE WHEN \"event_user\" IS NULL THEN 1 END) AS count_null_event_user,\n",
    "    COUNT(CASE WHEN \"event_user\" NOT LIKE 'user%' AND \"event_user\" NOT LIKE 'batch%' AND \"event_user\" <> 'NONE' AND \"event_user\" IS NOT NULL THEN 1 END) AS count_other_event_user\n",
    "FROM \n",
    "    purchase_order_tm;"
   ]
  },
  {
   "cell_type": "code",
   "execution_count": null,
   "metadata": {
    "vscode": {
     "languageId": "sql"
    }
   },
   "outputs": [],
   "source": [
    "#11_event_cumulative_net_worth identify\n",
    "SELECT \n",
    "    MIN(\"event_cumulative_net_worth\") AS min_event_cumulative_net_worth,\n",
    "    AVG(\"event_cumulative_net_worth\") AS avg_event_cumulative_net_worth,\n",
    "    MAX(\"event_cumulative_net_worth\") AS max_event_cumulative_net_worth\n",
    "FROM \n",
    "    purchase_order_tm;"
   ]
  },
  {
   "cell_type": "code",
   "execution_count": null,
   "metadata": {
    "vscode": {
     "languageId": "sql"
    }
   },
   "outputs": [],
   "source": [
    "#12_compliance flows identify\n",
    "SELECT \n",
    "    \"item_category\", \n",
    "    \"goods_receipt\", \n",
    "    \"gr_based_iv\", \n",
    "    COUNT(DISTINCT \"caseID\") AS count_caseID\n",
    "FROM \n",
    "    purchase_order_tm\n",
    "GROUP BY \n",
    "    \"item_category\", \n",
    "    \"goods_receipt\", \n",
    "    \"gr_based_iv\";"
   ]
  },
  {
   "cell_type": "code",
   "execution_count": null,
   "metadata": {
    "vscode": {
     "languageId": "sql"
    }
   },
   "outputs": [],
   "source": [
    "#13_count activity by flows\n",
    "SELECT \n",
    "    \"item_category\", \n",
    "    \"activity\", \n",
    "    COUNT(*) AS count_distinct\n",
    "FROM \n",
    "    purchase_order_tm\n",
    "GROUP BY \n",
    "    \"item_category\", \n",
    "    \"activity\";"
   ]
  },
  {
   "cell_type": "code",
   "execution_count": null,
   "metadata": {
    "vscode": {
     "languageId": "sql"
    }
   },
   "outputs": [],
   "source": [
    "#14_doc & item type identify\n",
    "SELECT \n",
    "    \"document_type\", \n",
    "    \"item_type\", \n",
    "    COUNT(DISTINCT \"caseID\") AS count_caseID\n",
    "FROM \n",
    "    purchase_order\n",
    "GROUP BY \n",
    "    \"document_type\", \n",
    "    \"item_type\";"
   ]
  },
  {
   "cell_type": "code",
   "execution_count": null,
   "metadata": {
    "vscode": {
     "languageId": "sql"
    }
   },
   "outputs": [],
   "source": [
    "#15_spend classification & spend area text identify\n",
    "SELECT \n",
    "    \"spend_classification_text\", \n",
    "    \"spend_area_text\", \n",
    "    COUNT(DISTINCT \"caseID\") AS count_caseID\n",
    "FROM \n",
    "    purchase_order\n",
    "GROUP BY \n",
    "    \"spend_classification_text\", \n",
    "    \"spend_area_text\";"
   ]
  },
  {
   "cell_type": "code",
   "execution_count": null,
   "metadata": {
    "vscode": {
     "languageId": "sql"
    }
   },
   "outputs": [],
   "source": [
    "#16_spend & subspend identify\n",
    "SELECT \n",
    "    \"spend_area_text\", \n",
    "    \"subspend_area_text\", \n",
    "    COUNT(DISTINCT \"caseID\") AS count_caseID\n",
    "FROM \n",
    "    purchase_order\n",
    "GROUP BY \n",
    "    \"spend_area_text\", \n",
    "    \"subspend_area_text\";"
   ]
  },
  {
   "cell_type": "code",
   "execution_count": null,
   "metadata": {
    "vscode": {
     "languageId": "sql"
    }
   },
   "outputs": [],
   "source": [
    "#17_spend classification text details\n",
    "SELECT \n",
    "    \"spend_classification_text\", \n",
    "    \"spend_area_text\", \n",
    "    \"subspend_area_text\", \n",
    "    COUNT(DISTINCT \"caseID\") AS count_caseID\n",
    "FROM \n",
    "    purchase_order\n",
    "GROUP BY \n",
    "    \"spend_classification_text\", \n",
    "    \"spend_area_text\", \n",
    "    \"subspend_area_text\";"
   ]
  },
  {
   "cell_type": "code",
   "execution_count": null,
   "metadata": {
    "vscode": {
     "languageId": "sql"
    }
   },
   "outputs": [],
   "source": [
    "#18_item_category and spend_area_text identify\n",
    "SELECT \n",
    "    \"item_category\", \n",
    "    \"spend_area_text\", \n",
    "    COUNT(DISTINCT \"caseID\") AS count_caseID\n",
    "FROM \n",
    "    purchase_order_fixyear\n",
    "GROUP BY \n",
    "    \"item_category\", \n",
    "    \"spend_area_text\";"
   ]
  },
  {
   "cell_type": "markdown",
   "metadata": {},
   "source": [
    "Conclusion:\n",
    "\n",
    "1. eventID has no missing values and duplicate data (used as PrimaryKey).\n",
    "2. Each column has no empty rows.\n",
    "3. Only columns \"spend_classification_text\", \"spend_area_text\", and \"subspend_area_text\" have null values.\n",
    "4. No identified typos.\n",
    "5. vendor <> with vendor_name.\n",
    "6. event_user = event_resource (can be chosen one).\n",
    "7. All compliance for 4 types of flows have been met.\n",
    "8. Timestamp needs improvement."
   ]
  }
 ],
 "metadata": {
  "kernelspec": {
   "display_name": "Python 3",
   "language": "python",
   "name": "python3"
  },
  "language_info": {
   "codemirror_mode": {
    "name": "ipython",
    "version": 3
   },
   "file_extension": ".py",
   "mimetype": "text/x-python",
   "name": "python",
   "nbconvert_exporter": "python",
   "pygments_lexer": "ipython3",
   "version": "3.11.8"
  }
 },
 "nbformat": 4,
 "nbformat_minor": 2
}
