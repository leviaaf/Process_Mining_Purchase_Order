{
 "cells": [
  {
   "cell_type": "code",
   "execution_count": null,
   "metadata": {
    "vscode": {
     "languageId": "sql"
    }
   },
   "outputs": [],
   "source": [
    "--00_create duplicate table\n",
    "CREATE TABLE purchase_order LIKE purchase_order_tm;"
   ]
  },
  {
   "cell_type": "code",
   "execution_count": null,
   "metadata": {
    "vscode": {
     "languageId": "sql"
    }
   },
   "outputs": [],
   "source": [
    "--01_create duplicate table\n",
    "INSERT INTO purchase_order\n",
    "SELECT * FROM purchase_order_tm;"
   ]
  },
  {
   "cell_type": "code",
   "execution_count": null,
   "metadata": {
    "vscode": {
     "languageId": "sql"
    }
   },
   "outputs": [],
   "source": [
    "--1_remove event_user\n",
    "ALTER TABLE purchase_order\n",
    "DROP (\"event_user\");"
   ]
  },
  {
   "cell_type": "code",
   "execution_count": null,
   "metadata": {
    "vscode": {
     "languageId": "sql"
    }
   },
   "outputs": [],
   "source": [
    "--2-1_solve timestamp issue\n",
    "UPDATE purchase_order\n",
    "SET \"timestamp\" = REPLACE(\"timestamp\", '.000', '')"
   ]
  },
  {
   "cell_type": "code",
   "execution_count": null,
   "metadata": {
    "vscode": {
     "languageId": "sql"
    }
   },
   "outputs": [],
   "source": [
    "--2-2_solve timestamp issue\n",
    "UPDATE purchase_order\n",
    "SET \"timestamp\" = REPLACE(\"timestamp\", '000', '00')"
   ]
  },
  {
   "cell_type": "code",
   "execution_count": null,
   "metadata": {
    "vscode": {
     "languageId": "sql"
    }
   },
   "outputs": [],
   "source": [
    "--2-3_solve timestamp issue\n",
    "ALTER TABLE purchase_order\n",
    "ALTER (\"timestamp\" TIMESTAMP);"
   ]
  },
  {
   "cell_type": "code",
   "execution_count": null,
   "metadata": {
    "vscode": {
     "languageId": "sql"
    }
   },
   "outputs": [],
   "source": [
    "--3_filter timestamp\n",
    "CREATE TABLE purchase_order_fixyear AS (\n",
    "    SELECT *\n",
    "    FROM purchase_order\n",
    "    WHERE \"timestamp\" >= '2018-01-01' AND \"timestamp\" < '2019-02-01'\n",
    ") WITH DATA;"
   ]
  }
 ],
 "metadata": {
  "kernelspec": {
   "display_name": "Python 3",
   "language": "python",
   "name": "python3"
  },
  "language_info": {
   "codemirror_mode": {
    "name": "ipython",
    "version": 3
   },
   "file_extension": ".py",
   "mimetype": "text/x-python",
   "name": "python",
   "nbconvert_exporter": "python",
   "pygments_lexer": "ipython3",
   "version": "3.11.8"
  }
 },
 "nbformat": 4,
 "nbformat_minor": 2
}
