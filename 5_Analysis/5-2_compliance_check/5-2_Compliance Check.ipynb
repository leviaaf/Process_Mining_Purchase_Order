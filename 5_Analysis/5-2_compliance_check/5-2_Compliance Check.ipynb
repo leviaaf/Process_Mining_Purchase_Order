{
 "cells": [
  {
   "cell_type": "code",
   "execution_count": null,
   "metadata": {},
   "outputs": [],
   "source": [
    "#1-1_Add new column \"complete and compliance checking\"\n",
    "ALTER TABLE purchase_order_fixyear\n",
    "ADD (\"completed\" NVARCHAR(255),\n",
    "     \"compliance\" NVARCHAR(255));"
   ]
  },
  {
   "cell_type": "code",
   "execution_count": null,
   "metadata": {},
   "outputs": [],
   "source": [
    "#1-2_Labeling \"complete and compliance checking\"\n",
    "UPDATE purchase_order_fixyear\n",
    "SET\n",
    "    \"completed\" = CASE\n",
    "        WHEN \"item_category\" IN ('3-way match: invoice after GR', '3-way match: invoice before GR', '2-way match') AND\n",
    "             EXISTS (SELECT 1 FROM purchase_order_fixyear AS po WHERE po.\"caseID\" = purchase_order_fixyear.\"caseID\" AND po.\"activity\" = 'Clear Invoice') THEN 'completed'\n",
    "        WHEN \"item_category\" = 'Consignment' AND\n",
    "             EXISTS (SELECT 1 FROM purchase_order_fixyear AS po WHERE po.\"caseID\" = purchase_order_fixyear.\"caseID\" AND po.\"activity\" = 'Record Goods Receipt') THEN 'completed'\n",
    "        ELSE 'uncompleted'\n",
    "    END,\n",
    "    \"compliance\" = CASE\n",
    "        WHEN \"item_category\" IN ('3-way match: invoice after GR', '3-way match: invoice before GR') THEN\n",
    "            CASE\n",
    "                WHEN EXISTS (SELECT 1 FROM purchase_order_fixyear AS po WHERE po.\"caseID\" = purchase_order_fixyear.\"caseID\" AND po.\"activity\" = 'Record Goods Receipt') AND\n",
    "                     EXISTS (SELECT 1 FROM purchase_order_fixyear AS po WHERE po.\"caseID\" = purchase_order_fixyear.\"caseID\" AND po.\"activity\" = 'Clear Invoice') AND\n",
    "                     EXISTS (SELECT 1 FROM purchase_order_fixyear AS po WHERE po.\"caseID\" = purchase_order_fixyear.\"caseID\" AND po.\"activity\" = 'Record Invoice Receipt') THEN\n",
    "                     CASE\n",
    "                         WHEN (SELECT AVG(CASE WHEN \"event_cumulative_net_worth\" <> 0 THEN \"event_cumulative_net_worth\" / \"event_cumulative_net_worth\" ELSE NULL END) FROM purchase_order_fixyear AS po WHERE po.\"caseID\" = purchase_order_fixyear.\"caseID\" AND po.\"activity\" = 'Record Invoice Receipt') = 1 AND\n",
    "                              (SELECT SUM(\"event_cumulative_net_worth\") FROM purchase_order_fixyear AS po WHERE po.\"caseID\" = purchase_order_fixyear.\"caseID\" AND po.\"activity\" = 'Record Goods Receipt') = \n",
    "                              (SELECT SUM(\"event_cumulative_net_worth\") FROM purchase_order_fixyear AS po WHERE po.\"caseID\" = purchase_order_fixyear.\"caseID\" AND po.\"activity\" = 'Record Invoice Receipt') AND\n",
    "                              (SELECT COUNT(*) FROM purchase_order_fixyear AS po WHERE po.\"caseID\" = purchase_order_fixyear.\"caseID\" AND po.\"activity\" = 'Record Goods Receipt') = \n",
    "                              (SELECT COUNT(*) FROM purchase_order_fixyear AS po WHERE po.\"caseID\" = purchase_order_fixyear.\"caseID\" AND po.\"activity\" = 'Record Invoice Receipt') THEN 'compliant'\n",
    "                         ELSE 'incompliant'\n",
    "                     END\n",
    "                ELSE 'incompliant'\n",
    "            END\n",
    "        WHEN \"item_category\" = '2-way match' THEN\n",
    "            CASE\n",
    "                WHEN EXISTS (SELECT 1 FROM purchase_order_fixyear AS po WHERE po.\"caseID\" = purchase_order_fixyear.\"caseID\" AND po.\"activity\" = 'Clear Invoice') THEN 'compliant'\n",
    "                ELSE 'incompliant'\n",
    "            END\n",
    "        WHEN \"item_category\" = 'Consignment' THEN\n",
    "            CASE\n",
    "                WHEN EXISTS (SELECT 1 FROM purchase_order_fixyear AS po WHERE po.\"caseID\" = purchase_order_fixyear.\"caseID\" AND po.\"activity\" = 'Record Goods Receipt') THEN\n",
    "                     CASE\n",
    "                         WHEN (SELECT SUM(\"event_cumulative_net_worth\") / COUNT(*) FROM purchase_order_fixyear AS po WHERE po.\"caseID\" = purchase_order_fixyear.\"caseID\" AND po.\"activity\" = 'Record Goods Receipt') = \"event_cumulative_net_worth\" THEN 'compliant'\n",
    "                         ELSE 'incompliant'\n",
    "                     END\n",
    "                ELSE 'incompliant'\n",
    "            END\n",
    "        ELSE 'incompliant'\n",
    "    END;"
   ]
  }
 ],
 "metadata": {
  "kernelspec": {
   "display_name": "Python 3",
   "language": "python",
   "name": "python3"
  },
  "language_info": {
   "name": "python",
   "version": "3.11.8"
  }
 },
 "nbformat": 4,
 "nbformat_minor": 2
}
